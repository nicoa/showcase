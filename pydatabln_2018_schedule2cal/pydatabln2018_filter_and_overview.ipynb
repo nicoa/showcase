{
 "cells": [
  {
   "cell_type": "markdown",
   "metadata": {
    "toc": "true"
   },
   "source": [
    "# Table of Contents\n",
    " <p><div class=\"lev1 toc-item\"><a href=\"#Query-Data\" data-toc-modified-id=\"Query-Data-1\"><span class=\"toc-item-num\">1&nbsp;&nbsp;</span>Query Data</a></div><div class=\"lev1 toc-item\"><a href=\"#visualize-some-stuff\" data-toc-modified-id=\"visualize-some-stuff-2\"><span class=\"toc-item-num\">2&nbsp;&nbsp;</span>visualize some stuff</a></div>"
   ]
  },
  {
   "cell_type": "code",
   "execution_count": 1,
   "metadata": {
    "ExecuteTime": {
     "end_time": "2018-07-10T06:56:14.826574Z",
     "start_time": "2018-07-10T06:56:14.505482Z"
    }
   },
   "outputs": [],
   "source": [
    "import requests as rq\n",
    "import pandas as pd\n",
    "import matplotlib.pyplot as mpl\n",
    "import bs4\n",
    "import os\n",
    "\n",
    "from tqdm import tqdm_notebook\n",
    "\n",
    "from datetime import time"
   ]
  },
  {
   "cell_type": "code",
   "execution_count": 2,
   "metadata": {
    "ExecuteTime": {
     "end_time": "2018-07-10T06:56:14.846921Z",
     "start_time": "2018-07-10T06:56:14.833424Z"
    }
   },
   "outputs": [],
   "source": [
    "%matplotlib inline"
   ]
  },
  {
   "cell_type": "markdown",
   "metadata": {},
   "source": [
    "# Query Data\n",
    "\n",
    "Grab schedule page:"
   ]
  },
  {
   "cell_type": "code",
   "execution_count": 3,
   "metadata": {
    "ExecuteTime": {
     "end_time": "2018-07-10T06:56:15.934438Z",
     "start_time": "2018-07-10T06:56:14.853291Z"
    }
   },
   "outputs": [],
   "source": [
    "base_url = \"https://pydata.org\"\n",
    "r = rq.get(base_url + \"/berlin2018/schedule/\")\n",
    "bs = bs4.BeautifulSoup(r.text, \"html.parser\")"
   ]
  },
  {
   "cell_type": "markdown",
   "metadata": {},
   "source": [
    "Let's query every talk description:"
   ]
  },
  {
   "cell_type": "code",
   "execution_count": 4,
   "metadata": {
    "ExecuteTime": {
     "end_time": "2018-07-10T06:56:35.042366Z",
     "start_time": "2018-07-10T06:56:15.940161Z"
    }
   },
   "outputs": [
    {
     "data": {
      "application/vnd.jupyter.widget-view+json": {
       "model_id": "53e3456e8703423b96ff363f28ef4ead",
       "version_major": 2,
       "version_minor": 0
      },
      "text/plain": [
       "HBox(children=(IntProgress(value=0, max=84), HTML(value=u'')))"
      ]
     },
     "metadata": {},
     "output_type": "display_data"
    },
    {
     "name": "stdout",
     "output_type": "stream",
     "text": [
      "\n"
     ]
    }
   ],
   "source": [
    "data = {}\n",
    "for ahref in tqdm_notebook(bs.find_all(\"a\")):\n",
    "    if 'schedule/presentation' in ahref.get(\"href\"):\n",
    "        url = ahref.get(\"href\")\n",
    "    else:\n",
    "        continue\n",
    "    data[url] = {}\n",
    "    resp = bs4.BeautifulSoup(rq.get(base_url + url).text, \"html.parser\")\n",
    "    title = resp.find(\"h2\").text\n",
    "    resp = resp.find_all(attrs={'class':\"container\"})[1]\n",
    "\n",
    "    when, who = resp.find_all(\"h4\")\n",
    "    date_info = when.string.split(\"\\n\")[1:]\n",
    "    day_info = date_info[0].strip()\n",
    "    time_inf = date_info[1].strip()\n",
    "    room_inf = date_info[3].strip()[3:]\n",
    "    speaker = who.find(\"a\").text\n",
    "    level =  resp.find(\"dd\").text\n",
    "    abstract = resp.find(attrs={'class':'abstract'}).text\n",
    "    description = resp.find(attrs={'class':'description'}).text\n",
    "    data[url] = {\n",
    "        'day_info': day_info, \n",
    "        'title': title,\n",
    "        'time_inf': time_inf, \n",
    "        'room_inf': room_inf, \n",
    "        'speaker': speaker, \n",
    "        'level': level, \n",
    "        'abstract': abstract, \n",
    "        'description': description\n",
    "    }"
   ]
  },
  {
   "cell_type": "markdown",
   "metadata": {},
   "source": [
    "Okay, make a dataframe and add some helpful columns:"
   ]
  },
  {
   "cell_type": "code",
   "execution_count": 5,
   "metadata": {
    "ExecuteTime": {
     "end_time": "2018-07-10T06:56:35.169783Z",
     "start_time": "2018-07-10T06:56:35.049006Z"
    }
   },
   "outputs": [
    {
     "data": {
      "text/html": [
       "<div>\n",
       "<style>\n",
       "    .dataframe thead tr:only-child th {\n",
       "        text-align: right;\n",
       "    }\n",
       "\n",
       "    .dataframe thead th {\n",
       "        text-align: left;\n",
       "    }\n",
       "\n",
       "    .dataframe tbody tr th {\n",
       "        vertical-align: top;\n",
       "    }\n",
       "</style>\n",
       "<table border=\"1\" class=\"dataframe\">\n",
       "  <thead>\n",
       "    <tr style=\"text-align: right;\">\n",
       "      <th></th>\n",
       "      <th>day_info</th>\n",
       "      <th>speaker</th>\n",
       "      <th>room_inf</th>\n",
       "      <th>title</th>\n",
       "      <th>abstract</th>\n",
       "      <th>level</th>\n",
       "      <th>description</th>\n",
       "      <th>tutorial</th>\n",
       "      <th>time_from</th>\n",
       "      <th>time_to</th>\n",
       "    </tr>\n",
       "  </thead>\n",
       "  <tbody>\n",
       "    <tr>\n",
       "      <th>0</th>\n",
       "      <td>Friday</td>\n",
       "      <td>Andreas Merentitis</td>\n",
       "      <td>Track 1</td>\n",
       "      <td>Using GANs to improve generalization in a semi...</td>\n",
       "      <td>In this tutorial we will briefly introduce GAN...</td>\n",
       "      <td>Intermediate</td>\n",
       "      <td>In many practical machine learning classificat...</td>\n",
       "      <td>True</td>\n",
       "      <td>09:00:00</td>\n",
       "      <td>10:30:00</td>\n",
       "    </tr>\n",
       "    <tr>\n",
       "      <th>1</th>\n",
       "      <td>Friday</td>\n",
       "      <td>Em Grasmeder</td>\n",
       "      <td>Track 2</td>\n",
       "      <td>A Hands-On Introduction to Your First Data Sci...</td>\n",
       "      <td>Software developers interested in getting star...</td>\n",
       "      <td>Intermediate</td>\n",
       "      <td>We’ve created a playground data science applic...</td>\n",
       "      <td>True</td>\n",
       "      <td>13:15:00</td>\n",
       "      <td>14:45:00</td>\n",
       "    </tr>\n",
       "    <tr>\n",
       "      <th>2</th>\n",
       "      <td>Friday</td>\n",
       "      <td>Gerrit Gruben</td>\n",
       "      <td>Track 2</td>\n",
       "      <td>Leveling up your storytelling and visualizatio...</td>\n",
       "      <td>\\nOverview: Visualization libraries of Python\\...</td>\n",
       "      <td>Novice</td>\n",
       "      <td>Not only do you have to master computer system...</td>\n",
       "      <td>True</td>\n",
       "      <td>10:45:00</td>\n",
       "      <td>12:15:00</td>\n",
       "    </tr>\n",
       "  </tbody>\n",
       "</table>\n",
       "</div>"
      ],
      "text/plain": [
       "  day_info             speaker room_inf  \\\n",
       "0   Friday  Andreas Merentitis  Track 1   \n",
       "1   Friday        Em Grasmeder  Track 2   \n",
       "2   Friday       Gerrit Gruben  Track 2   \n",
       "\n",
       "                                               title  \\\n",
       "0  Using GANs to improve generalization in a semi...   \n",
       "1  A Hands-On Introduction to Your First Data Sci...   \n",
       "2  Leveling up your storytelling and visualizatio...   \n",
       "\n",
       "                                            abstract         level  \\\n",
       "0  In this tutorial we will briefly introduce GAN...  Intermediate   \n",
       "1  Software developers interested in getting star...  Intermediate   \n",
       "2  \\nOverview: Visualization libraries of Python\\...        Novice   \n",
       "\n",
       "                                         description  tutorial time_from  \\\n",
       "0  In many practical machine learning classificat...      True  09:00:00   \n",
       "1  We’ve created a playground data science applic...      True  13:15:00   \n",
       "2  Not only do you have to master computer system...      True  10:45:00   \n",
       "\n",
       "    time_to  \n",
       "0  10:30:00  \n",
       "1  14:45:00  \n",
       "2  12:15:00  "
      ]
     },
     "execution_count": 5,
     "metadata": {},
     "output_type": "execute_result"
    }
   ],
   "source": [
    "df = pd.DataFrame.from_dict(data, orient='index')\n",
    "df.reset_index(drop=True, inplace=True)\n",
    "\n",
    "# Tutorials on Friday\n",
    "df.loc[df.day_info=='Friday', 'tutorial'] = True\n",
    "df['tutorial'].fillna(False, inplace=True)\n",
    "\n",
    "# time handling\n",
    "df['time_from'], df['time_to'] = zip(*df.time_inf.str.split(u'\\u2013'))\n",
    "df.time_from = pd.to_datetime(df.time_from).dt.time\n",
    "df.time_to = pd.to_datetime(df.time_to).dt.time\n",
    "del df['time_inf']\n",
    "\n",
    "df.to_json('./data.json')\n",
    "\n",
    "df.head(3)"
   ]
  },
  {
   "cell_type": "code",
   "execution_count": 6,
   "metadata": {
    "ExecuteTime": {
     "end_time": "2018-07-10T06:56:35.267379Z",
     "start_time": "2018-07-10T06:56:35.177921Z"
    }
   },
   "outputs": [
    {
     "data": {
      "text/html": [
       "<div>\n",
       "<style>\n",
       "    .dataframe thead tr:only-child th {\n",
       "        text-align: right;\n",
       "    }\n",
       "\n",
       "    .dataframe thead th {\n",
       "        text-align: left;\n",
       "    }\n",
       "\n",
       "    .dataframe tbody tr th {\n",
       "        vertical-align: top;\n",
       "    }\n",
       "</style>\n",
       "<table border=\"1\" class=\"dataframe\">\n",
       "  <thead>\n",
       "    <tr style=\"text-align: right;\">\n",
       "      <th></th>\n",
       "      <th>day_info</th>\n",
       "      <th>speaker</th>\n",
       "      <th>room_inf</th>\n",
       "      <th>title</th>\n",
       "      <th>abstract</th>\n",
       "      <th>level</th>\n",
       "      <th>description</th>\n",
       "      <th>tutorial</th>\n",
       "      <th>time_from</th>\n",
       "      <th>time_to</th>\n",
       "    </tr>\n",
       "  </thead>\n",
       "  <tbody>\n",
       "    <tr>\n",
       "      <th>11</th>\n",
       "      <td>Sunday</td>\n",
       "      <td>Valentin Haenel</td>\n",
       "      <td>Audimax</td>\n",
       "      <td>Battle-hardened advice on efficient data loadi...</td>\n",
       "      <td>Getting GPUs fully utilized can be tricky when...</td>\n",
       "      <td>Intermediate</td>\n",
       "      <td>Getting GPUs fully utilized can be tricky when...</td>\n",
       "      <td>False</td>\n",
       "      <td>16:00:00</td>\n",
       "      <td>16:45:00</td>\n",
       "    </tr>\n",
       "    <tr>\n",
       "      <th>21</th>\n",
       "      <td>Sunday</td>\n",
       "      <td>Jeremy Tuloup</td>\n",
       "      <td>Kursraum 1</td>\n",
       "      <td>Practical examples of interactive visualizatio...</td>\n",
       "      <td>The Jupyter notebook has been the reference to...</td>\n",
       "      <td>Intermediate</td>\n",
       "      <td>The Jupyter ecosystem already comes with popul...</td>\n",
       "      <td>False</td>\n",
       "      <td>16:00:00</td>\n",
       "      <td>16:45:00</td>\n",
       "    </tr>\n",
       "  </tbody>\n",
       "</table>\n",
       "</div>"
      ],
      "text/plain": [
       "   day_info          speaker    room_inf  \\\n",
       "11   Sunday  Valentin Haenel     Audimax   \n",
       "21   Sunday    Jeremy Tuloup  Kursraum 1   \n",
       "\n",
       "                                                title  \\\n",
       "11  Battle-hardened advice on efficient data loadi...   \n",
       "21  Practical examples of interactive visualizatio...   \n",
       "\n",
       "                                             abstract         level  \\\n",
       "11  Getting GPUs fully utilized can be tricky when...  Intermediate   \n",
       "21  The Jupyter notebook has been the reference to...  Intermediate   \n",
       "\n",
       "                                          description  tutorial time_from  \\\n",
       "11  Getting GPUs fully utilized can be tricky when...     False  16:00:00   \n",
       "21  The Jupyter ecosystem already comes with popul...     False  16:00:00   \n",
       "\n",
       "     time_to  \n",
       "11  16:45:00  \n",
       "21  16:45:00  "
      ]
     },
     "execution_count": 6,
     "metadata": {},
     "output_type": "execute_result"
    }
   ],
   "source": [
    "# Example: Let's query all non-novice talks on sunday, starting at 4 pm\n",
    "tmp = df.query(\"(level!='Novice') & (day_info=='Sunday')\")\n",
    "tmp[tmp.time_from >= time(16)]"
   ]
  },
  {
   "cell_type": "markdown",
   "metadata": {},
   "source": [
    "# visualize some stuff"
   ]
  },
  {
   "cell_type": "code",
   "execution_count": 7,
   "metadata": {
    "ExecuteTime": {
     "end_time": "2018-07-10T06:56:35.279172Z",
     "start_time": "2018-07-10T06:56:35.273100Z"
    }
   },
   "outputs": [],
   "source": [
    "plt.style.use('seaborn-darkgrid')#'seaborn-darkgrid')"
   ]
  },
  {
   "cell_type": "code",
   "execution_count": 8,
   "metadata": {
    "ExecuteTime": {
     "end_time": "2018-07-10T06:56:35.333200Z",
     "start_time": "2018-07-10T06:56:35.290197Z"
    }
   },
   "outputs": [],
   "source": [
    "plt.rcParams['savefig.dpi'] = 200\n",
    "plt.rcParams['figure.dpi'] = 120\n",
    "\n",
    "plt.rcParams['figure.autolayout'] = False\n",
    "plt.rcParams['figure.figsize'] = 10, 5\n",
    "plt.rcParams['axes.labelsize'] = 17\n",
    "plt.rcParams['axes.titlesize'] = 20\n",
    "plt.rcParams['font.size'] = 16\n",
    "plt.rcParams['lines.linewidth'] = 2.0\n",
    "plt.rcParams['lines.markersize'] = 8\n",
    "plt.rcParams['legend.fontsize'] = 11\n",
    "\n",
    "plt.rcParams['font.family'] = \"serif\"\n",
    "plt.rcParams['font.serif'] = \"cm\"\n",
    "plt.rcParams['text.latex.preamble'] = \"\\\\usepackage{subdepth}, \\\\usepackage{type1cm}\"\n",
    "plt.rcParams['text.usetex'] = True"
   ]
  },
  {
   "cell_type": "code",
   "execution_count": 9,
   "metadata": {
    "ExecuteTime": {
     "end_time": "2018-07-10T06:56:36.680911Z",
     "start_time": "2018-07-10T06:56:35.349276Z"
    }
   },
   "outputs": [
    {
     "name": "stderr",
     "output_type": "stream",
     "text": [
      "/Users/nico.albers/anaconda2/lib/python2.7/site-packages/matplotlib/font_manager.py:1328: UserWarning: findfont: Font family [u'serif'] not found. Falling back to DejaVu Sans\n",
      "  (prop.get_family(), self.defaultFamily[fontext]))\n"
     ]
    },
    {
     "data": {
      "image/png": "[encoded data removed]",
      "text/plain": [
       "<Figure size 1200x600 with 1 Axes>"
      ]
     },
     "metadata": {},
     "output_type": "display_data"
    }
   ],
   "source": [
    "ax = df.level.value_counts().plot.bar(rot=0)\n",
    "ax.set_ylabel(\"number of talks\")\n",
    "ax.set_title(\"levels of the talks where:\")\n",
    "plt.show()"
   ]
  },
  {
   "cell_type": "code",
   "execution_count": 11,
   "metadata": {
    "ExecuteTime": {
     "end_time": "2018-07-10T06:56:38.541985Z",
     "start_time": "2018-07-10T06:56:36.699056Z"
    }
   },
   "outputs": [
    {
     "data": {
      "image/png": "[encoded data removed]",
      "text/plain": [
       "<Figure size 1200x600 with 1 Axes>"
      ]
     },
     "metadata": {},
     "output_type": "display_data"
    }
   ],
   "source": [
    "ax = df.rename(columns={'day_info': 'dayinfo'}).groupby(\"dayinfo\")['level'].value_counts(normalize=True).round(2).unstack(level=0).plot.bar(rot=0)\n",
    "ax.set_xlabel('')\n",
    "ax.set_title('So the last day is more kind of \"fade-out\"?')\n",
    "plt.show()"
   ]
  },
  {
   "cell_type": "code",
   "execution_count": 12,
   "metadata": {
    "ExecuteTime": {
     "end_time": "2018-07-10T06:56:40.017162Z",
     "start_time": "2018-07-10T06:56:38.548779Z"
    }
   },
   "outputs": [
    {
     "data": {
      "image/png": "[encoded data removed]",
      "text/plain": [
       "<Figure size 1200x600 with 1 Axes>"
      ]
     },
     "metadata": {},
     "output_type": "display_data"
    }
   ],
   "source": [
    "ax = df.groupby(\"tutorial\")['level'].value_counts(normalize=True).round(2).unstack(level=0).T.plot.bar(rot=0)\n",
    "ax.set_title('the percentage of experienced slots is higher for tutorials!\\n\\\\small{So come on fridays for experienced level ;-)}')\n",
    "plt.show()"
   ]
  }
 ],
 "metadata": {
  "anaconda-cloud": {},
  "kernelspec": {
   "display_name": "Python [default]",
   "language": "python",
   "name": "python2"
  },
  "language_info": {
   "codemirror_mode": {
    "name": "ipython",
    "version": 2
   },
   "file_extension": ".py",
   "mimetype": "text/x-python",
   "name": "python",
   "nbconvert_exporter": "python",
   "pygments_lexer": "ipython2",
   "version": "2.7.15"
  },
  "toc": {
   "colors": {
    "hover_highlight": "#DAA520",
    "navigate_num": "#000000",
    "navigate_text": "#333333",
    "running_highlight": "#FF0000",
    "selected_highlight": "#FFD700",
    "sidebar_border": "#EEEEEE",
    "wrapper_background": "#FFFFFF"
   },
   "moveMenuLeft": true,
   "nav_menu": {
    "height": "190px",
    "width": "254px"
   },
   "navigate_menu": true,
   "number_sections": true,
   "sideBar": false,
   "threshold": 4,
   "toc_cell": true,
   "toc_position": {
    "height": "238px",
    "left": "1353.97px",
    "right": "20px",
    "top": "156px",
    "width": "276px"
   },
   "toc_section_display": "block",
   "toc_window_display": false,
   "widenNotebook": false
  },
  "widgets": {
   "state": {
    "b48f1cea0ea7494588f682adf8014a63": {
     "views": [
      {
       "cell_index": 6
      }
     ]
    }
   },
   "version": "1.2.0"
  }
 },
 "nbformat": 4,
 "nbformat_minor": 2
}

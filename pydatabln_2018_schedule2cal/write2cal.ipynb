{
 "cells": [
  {
   "cell_type": "markdown",
   "metadata": {
    "toc": "true"
   },
   "source": [
    "# Table of Contents\n",
    " <p><div class=\"lev1 toc-item\"><a href=\"#Authenticate\" data-toc-modified-id=\"Authenticate-1\"><span class=\"toc-item-num\">1&nbsp;&nbsp;</span>Authenticate</a></div><div class=\"lev2 toc-item\"><a href=\"#what-do-you-need\" data-toc-modified-id=\"what-do-you-need-11\"><span class=\"toc-item-num\">1.1&nbsp;&nbsp;</span>what do you need</a></div><div class=\"lev1 toc-item\"><a href=\"#defining-helpers\" data-toc-modified-id=\"defining-helpers-2\"><span class=\"toc-item-num\">2&nbsp;&nbsp;</span>defining helpers</a></div><div class=\"lev1 toc-item\"><a href=\"#overview-of-calendars\" data-toc-modified-id=\"overview-of-calendars-3\"><span class=\"toc-item-num\">3&nbsp;&nbsp;</span>overview of calendars</a></div><div class=\"lev1 toc-item\"><a href=\"#push-events-to-calendar\" data-toc-modified-id=\"push-events-to-calendar-4\"><span class=\"toc-item-num\">4&nbsp;&nbsp;</span>push events to calendar</a></div><div class=\"lev2 toc-item\"><a href=\"#read-and-transform-df\" data-toc-modified-id=\"read-and-transform-df-41\"><span class=\"toc-item-num\">4.1&nbsp;&nbsp;</span>read and transform df</a></div>"
   ]
  },
  {
   "cell_type": "markdown",
   "metadata": {},
   "source": [
    "# Authenticate\n",
    "Disclaimer: This is really ugly and often fails. Try to get it running, as the apiclient has got the service (this is the hard part), everything should work.\n",
    "\n",
    "WARNING: oauth2client is outdated and no longer maintained. I still use it but you shouldn't. Unfortunately the [calendar quickstart documentation](https://developers.google.com/calendar/quickstart/python?authuser=1) uses it, so one has to put own effort in using more modern tools.\n",
    "\n",
    "## what do you need\n",
    "Just one google account and you can follow the guide [here](https://developers.google.com/calendar/quickstart/python?authuser=1#step_1_turn_on_the_api_name). The normal use of the API is free.\n"
   ]
  },
  {
   "cell_type": "code",
   "execution_count": 1,
   "metadata": {
    "ExecuteTime": {
     "end_time": "2018-07-08T07:54:44.506382Z",
     "start_time": "2018-07-08T07:54:44.206060Z"
    }
   },
   "outputs": [],
   "source": [
    "from __future__ import print_function\n",
    "import httplib2\n",
    "import os\n",
    "\n",
    "from apiclient import discovery\n",
    "from oauth2client import client\n",
    "from oauth2client import tools\n",
    "from oauth2client.file import Storage\n",
    "\n",
    "import datetime\n",
    "\n",
    "SCOPES = 'https://www.googleapis.com/auth/calendar'\n",
    "CLIENT_SECRET_FILE = 'client_secret.json'\n",
    "APPLICATION_NAME = 'Google Calendar API Python Quickstart'\n",
    "\n",
    "import argparse\n",
    "from argparse import Namespace\n",
    "\n",
    "flags = None"
   ]
  },
  {
   "cell_type": "code",
   "execution_count": 2,
   "metadata": {
    "ExecuteTime": {
     "end_time": "2018-07-08T07:55:04.659036Z",
     "start_time": "2018-07-08T07:54:44.512438Z"
    }
   },
   "outputs": [
    {
     "name": "stdout",
     "output_type": "stream",
     "text": [
      "\n",
      "Your browser has been opened to visit:\n",
      "\n",
      "    https://accounts.google.com/o/oauth2/auth?scope=https%3A%2F%2Fwww.googleapis.com%2Fauth%2Fcalendar&redirect_uri=http%3A%2F%2Flocalhost%3A8080%2F&response_type=code&client_id=781086215716-obdpcfb4v302f9s9lfjtnlph8djdseqa.apps.googleusercontent.com&access_type=offline\n",
      "\n",
      "If your browser is on a different machine then exit and re-run this\n",
      "application with the command-line parameter\n",
      "\n",
      "  --noauth_local_webserver\n",
      "\n",
      "Authentication successful.\n"
     ]
    }
   ],
   "source": [
    "home_dir = os.path.expanduser('~')\n",
    "credential_dir = os.path.join(home_dir, '.credentials')\n",
    "if not os.path.exists(credential_dir):\n",
    "    os.makedirs(credential_dir)\n",
    "credential_path = os.path.join(credential_dir,\n",
    "                               'calendar-python-quickstart.json')\n",
    "\n",
    "store = Storage(credential_path)\n",
    "credentials = store.get()\n",
    "\n",
    "flow = client.flow_from_clientsecrets(CLIENT_SECRET_FILE, SCOPES)\n",
    "\n",
    "credentials = tools.run_flow(\n",
    "    flow, store,\n",
    "    Namespace(\n",
    "        auth_host_name='localhost', auth_host_port=[8080, 8090],\n",
    "        logging_level='ERROR', noauth_local_webserver=False))"
   ]
  },
  {
   "cell_type": "code",
   "execution_count": 3,
   "metadata": {
    "ExecuteTime": {
     "end_time": "2018-07-08T07:55:04.683395Z",
     "start_time": "2018-07-08T07:55:04.669786Z"
    }
   },
   "outputs": [],
   "source": [
    "http = credentials.authorize(httplib2.Http())"
   ]
  },
  {
   "cell_type": "code",
   "execution_count": 4,
   "metadata": {
    "ExecuteTime": {
     "end_time": "2018-07-08T07:55:07.588764Z",
     "start_time": "2018-07-08T07:55:04.695276Z"
    }
   },
   "outputs": [],
   "source": [
    "service = discovery.build('calendar', 'v3', credentials=credentials)"
   ]
  },
  {
   "cell_type": "markdown",
   "metadata": {},
   "source": [
    "# defining helpers\n",
    "\n",
    "Yes, most of this code is not good. There are no good docstrings nor good code.\n",
    "\n",
    "This is not a bug, it's an possibility to improve ;-)\n",
    "\n",
    "Mainly, this section contains of some convenience helpers and two important functions:\n",
    "- `create_pydata_calendars` (this creates the calendars if there is none with the same summary)\n",
    "- `write_event` (this creates the event if there is none with same time and summary)"
   ]
  },
  {
   "cell_type": "code",
   "execution_count": 5,
   "metadata": {
    "ExecuteTime": {
     "end_time": "2018-07-08T07:55:07.652722Z",
     "start_time": "2018-07-08T07:55:07.594719Z"
    }
   },
   "outputs": [],
   "source": [
    "def get_cals(service, filter_list=False):\n",
    "    \"\"\"Get Calendar Items from API.\"\"\"\n",
    "    cals = service.calendarList().list().execute().get('items')\n",
    "    if filter_list and isinstance(filter_list, list):\n",
    "        cals = filter(lambda d: d['summary'] in filter_list, cals)\n",
    "    return cals\n",
    "\n",
    "\n",
    "def create_pydata_calendars(service,\n",
    "                            calendar_list=[\n",
    "                                'pydata_novice',\n",
    "                                'pydata_intermediate',\n",
    "                                'pydata_experienced']):\n",
    "    \"\"\"Create Calendars named as `calendar_list`.\"\"\"\n",
    "    cals = get_cals(service)\n",
    "    new_cals = {}\n",
    "    for summary in calendar_list:\n",
    "        if summary in map(lambda d: d['summary'], cals):\n",
    "            continue\n",
    "        calendar = {'summary': summary, 'timeZone': 'Europe/Berlin'}\n",
    "\n",
    "        created_calendar = service.calendars().insert(body=calendar).execute()\n",
    "        new_cals[summary] = created_calendar['id']\n",
    "    return new_cals\n",
    "\n",
    "\n",
    "def reduce_to_summary(cals, is_dict=False):\n",
    "    \"\"\"Reduce calendar json for summarys or dict of summary:id pairs.\"\"\"\n",
    "    if is_dict:\n",
    "        return {x['summary']: x['id'] for x in cals}\n",
    "    else:\n",
    "        return map(lambda d: d['summary'], cals)\n",
    "\n",
    "\n",
    "def write_event(event, cals, service):\n",
    "    \"\"\"Write an event (pd.Series, row of df) to calendar.\"\"\"\n",
    "    events = service.events()\n",
    "    CalID = filter(lambda d: event.level == d['summary'], cals)[0]['id']\n",
    "    l = (\n",
    "        events.list(\n",
    "            calendarId=CalID,\n",
    "            timeMin=event.start + '+02:00',\n",
    "            timeMax=event.end + '+02:00',\n",
    "            singleEvents=True).execute()['items']\n",
    "    )\n",
    "    if (len(l) != 0) and any(map(lambda d: d['summary'] == event.summary, l)):\n",
    "        print(\"found existing event(s): '{}'\".format(\n",
    "            \"', '\".join(map(lambda d: d['summary'], l))))\n",
    "        return False\n",
    "    else:\n",
    "        print('creating event {}'.format(event.summary))\n",
    "\n",
    "    event = {\n",
    "        'summary': event.summary,\n",
    "        'location': event.location,\n",
    "        'description': event.description,\n",
    "        'start': {'dateTime': event.start, 'timeZone': 'Europe/Berlin'},\n",
    "        'end': {'dateTime': event.end, 'timeZone': 'Europe/Berlin'},\n",
    "        # 'organizer': [{'displayName': event.attendees}],  # didn't work\n",
    "        'reminders': {'useDefault': False}\n",
    "        # 'attendees': [{'email': 'YOUR@MAIL.com', 'sendNotifications': False}]\n",
    "    }\n",
    "\n",
    "    event = events.insert(calendarId=CalID, body=event).execute()\n",
    "    return True"
   ]
  },
  {
   "cell_type": "markdown",
   "metadata": {},
   "source": [
    "# overview of calendars"
   ]
  },
  {
   "cell_type": "code",
   "execution_count": 6,
   "metadata": {
    "ExecuteTime": {
     "end_time": "2018-07-08T07:55:07.665989Z",
     "start_time": "2018-07-08T07:55:07.658627Z"
    }
   },
   "outputs": [],
   "source": [
    "now = datetime.datetime.utcnow().isoformat() + 'Z'\n",
    "CONFERENCE_START = '2018-07-06'\n",
    "LEVEL_LIST = ['pydata_novice', 'pydata_intermediate', 'pydata_experienced']"
   ]
  },
  {
   "cell_type": "markdown",
   "metadata": {},
   "source": [
    "hint: the `LEVEL_LIST` can be created automatically from the dataframe of events later and then execute these functions later -> therefore you can also split by room instead of level if you want to have separate calendars for that."
   ]
  },
  {
   "cell_type": "code",
   "execution_count": 7,
   "metadata": {
    "ExecuteTime": {
     "end_time": "2018-07-08T07:55:35.989105Z",
     "start_time": "2018-07-08T07:55:07.675411Z"
    },
    "scrolled": true
   },
   "outputs": [
    {
     "data": {
      "text/plain": [
       "{'pydata_experienced': u'ms85ehv2i0r01b6v137ks4i3vg@group.calendar.google.com',\n",
       " 'pydata_intermediate': u't5tb12jnvsscn8h44euot0j1i8@group.calendar.google.com',\n",
       " 'pydata_novice': u'ig2hfsp67cs1u2tdjplgtpgnkg@group.calendar.google.com'}"
      ]
     },
     "execution_count": 7,
     "metadata": {},
     "output_type": "execute_result"
    }
   ],
   "source": [
    "create_pydata_calendars(service=service)"
   ]
  },
  {
   "cell_type": "code",
   "execution_count": 8,
   "metadata": {
    "ExecuteTime": {
     "end_time": "2018-07-08T07:55:38.501333Z",
     "start_time": "2018-07-08T07:55:35.995779Z"
    }
   },
   "outputs": [
    {
     "data": {
      "text/plain": [
       "[u'pydata_intermediate', u'pydata_novice', u'pydata_experienced']"
      ]
     },
     "execution_count": 8,
     "metadata": {},
     "output_type": "execute_result"
    }
   ],
   "source": [
    "reduce_to_summary(get_cals(service, LEVEL_LIST))"
   ]
  },
  {
   "cell_type": "code",
   "execution_count": 9,
   "metadata": {
    "ExecuteTime": {
     "end_time": "2018-07-08T07:55:39.855946Z",
     "start_time": "2018-07-08T07:55:38.514422Z"
    }
   },
   "outputs": [],
   "source": [
    "cals = get_cals(service, LEVEL_LIST)"
   ]
  },
  {
   "cell_type": "markdown",
   "metadata": {},
   "source": [
    "# push events to calendar\n",
    "## read and transform df\n",
    "No big deal: some renamings for the google API, mapping to right date format"
   ]
  },
  {
   "cell_type": "code",
   "execution_count": 10,
   "metadata": {
    "ExecuteTime": {
     "end_time": "2018-07-08T07:55:40.209687Z",
     "start_time": "2018-07-08T07:55:39.862110Z"
    }
   },
   "outputs": [],
   "source": [
    "df = pd.read_json('./data.json')[\n",
    "    [\n",
    "        'description', 'title', 'day_info', 'level',\n",
    "        'room_inf', 'speaker', 'time_from', 'time_to'\n",
    "    ]]\n",
    "df.rename(\n",
    "    columns={\n",
    "        'title': 'summary',\n",
    "        'room_inf': 'location',\n",
    "        'speaker': 'attendees'\n",
    "    }, inplace=True)\n",
    "\n",
    "df.level = 'pydata_' + df.level.str.lower()\n",
    "\n",
    "# mapping date (dayofweek) to right format for google calendar api values\n",
    "df['date'] = df.day_info.map(\n",
    "    {\n",
    "        ddd.strftime('%A'): ddd.strftime('%Y-%m-%dT')\n",
    "        for ddd in pd.date_range(\n",
    "            start=CONFERENCE_START, periods=df.day_info.nunique(), freq=\"D\")})\n",
    "df['start'] = df['date'] + df.time_from\n",
    "df['end'] = df['date'] + df.time_to"
   ]
  },
  {
   "cell_type": "code",
   "execution_count": 11,
   "metadata": {
    "ExecuteTime": {
     "end_time": "2018-07-08T07:55:40.261767Z",
     "start_time": "2018-07-08T07:55:40.215883Z"
    }
   },
   "outputs": [
    {
     "data": {
      "text/html": [
       "<div>\n",
       "<style scoped>\n",
       "    .dataframe tbody tr th:only-of-type {\n",
       "        vertical-align: middle;\n",
       "    }\n",
       "\n",
       "    .dataframe tbody tr th {\n",
       "        vertical-align: top;\n",
       "    }\n",
       "\n",
       "    .dataframe thead th {\n",
       "        text-align: right;\n",
       "    }\n",
       "</style>\n",
       "<table border=\"1\" class=\"dataframe\">\n",
       "  <thead>\n",
       "    <tr style=\"text-align: right;\">\n",
       "      <th></th>\n",
       "      <th>description</th>\n",
       "      <th>summary</th>\n",
       "      <th>day_info</th>\n",
       "      <th>level</th>\n",
       "      <th>location</th>\n",
       "      <th>attendees</th>\n",
       "      <th>time_from</th>\n",
       "      <th>time_to</th>\n",
       "      <th>date</th>\n",
       "      <th>start</th>\n",
       "      <th>end</th>\n",
       "    </tr>\n",
       "  </thead>\n",
       "  <tbody>\n",
       "    <tr>\n",
       "      <th>0</th>\n",
       "      <td>In many practical machine learning classificat...</td>\n",
       "      <td>Using GANs to improve generalization in a semi...</td>\n",
       "      <td>Friday</td>\n",
       "      <td>pydata_intermediate</td>\n",
       "      <td>Track 1</td>\n",
       "      <td>Andreas Merentitis</td>\n",
       "      <td>09:00:00</td>\n",
       "      <td>10:30:00</td>\n",
       "      <td>2018-07-06T</td>\n",
       "      <td>2018-07-06T09:00:00</td>\n",
       "      <td>2018-07-06T10:30:00</td>\n",
       "    </tr>\n",
       "    <tr>\n",
       "      <th>1</th>\n",
       "      <td>We’ve created a playground data science applic...</td>\n",
       "      <td>A Hands-On Introduction to Your First Data Sci...</td>\n",
       "      <td>Friday</td>\n",
       "      <td>pydata_intermediate</td>\n",
       "      <td>Track 2</td>\n",
       "      <td>Em Grasmeder</td>\n",
       "      <td>13:15:00</td>\n",
       "      <td>14:45:00</td>\n",
       "      <td>2018-07-06T</td>\n",
       "      <td>2018-07-06T13:15:00</td>\n",
       "      <td>2018-07-06T14:45:00</td>\n",
       "    </tr>\n",
       "  </tbody>\n",
       "</table>\n",
       "</div>"
      ],
      "text/plain": [
       "                                         description  \\\n",
       "0  In many practical machine learning classificat...   \n",
       "1  We’ve created a playground data science applic...   \n",
       "\n",
       "                                             summary day_info  \\\n",
       "0  Using GANs to improve generalization in a semi...   Friday   \n",
       "1  A Hands-On Introduction to Your First Data Sci...   Friday   \n",
       "\n",
       "                 level location           attendees time_from   time_to  \\\n",
       "0  pydata_intermediate  Track 1  Andreas Merentitis  09:00:00  10:30:00   \n",
       "1  pydata_intermediate  Track 2        Em Grasmeder  13:15:00  14:45:00   \n",
       "\n",
       "          date                start                  end  \n",
       "0  2018-07-06T  2018-07-06T09:00:00  2018-07-06T10:30:00  \n",
       "1  2018-07-06T  2018-07-06T13:15:00  2018-07-06T14:45:00  "
      ]
     },
     "execution_count": 11,
     "metadata": {},
     "output_type": "execute_result"
    }
   ],
   "source": [
    "df.head(2)"
   ]
  },
  {
   "cell_type": "code",
   "execution_count": 12,
   "metadata": {
    "ExecuteTime": {
     "end_time": "2018-07-08T07:59:56.110505Z",
     "start_time": "2018-07-08T07:55:40.267850Z"
    }
   },
   "outputs": [
    {
     "name": "stdout",
     "output_type": "stream",
     "text": [
      "creating event Using GANs to improve generalization in a semi-supervised setting - trying it in open datasets\n",
      "creating event A Hands-On Introduction to Your First Data Science Project\n",
      "creating event ctparse: a practical parser for natural language time expressions in pure python\n",
      "creating event Battle-hardened advice on efficient data loading for deep learning on videos.\n",
      "creating event Where NLP and psychology meet\n",
      "creating event Towards automating machine learning: benchmarking tools for hyperparameter tuning\n",
      "creating event Python Unittesting for Ethereum Smart Contracts or how not to create your own Cryptocurrency\n",
      "creating event LightFields.jl: Fast 3D image reconstruction for VR applications\n",
      "creating event Object detection to Instance segmentation: Learn to apply several algorithms along the way\n",
      "creating event Meaningful histogramming with Physt\n",
      "creating event How to scare a fish (school)\n",
      "creating event Simple diagrams of convoluted neural networks\n",
      "creating event Leveling up your storytelling and visualization skills\n",
      "creating event CatBoost: Fast Open-Source Gradient Boosting Library For GPU\n",
      "creating event Practical examples of interactive visualizations in JupyterLab with Pixi.js and Jupyter Widgets\n",
      "creating event On Laplacian Eigenmaps for Dimensionality Reduction\n",
      "creating event Deep Neural Networks for Double Dummy at Bridge\n",
      "creating event Extending Pandas using Apache Arrow and Numba\n",
      "creating event Modern Approaches to Bayesian Learning with Neural Networks\n",
      "creating event Understanding and Applying Self-Attention for NLP\n",
      "creating event The Face of Nanomaterials: Insightful Classification Using Deep Learning\n",
      "creating event Deprecating the state machine: building conversational AI with the Rasa stack\n",
      "creating event Five things I learned from turning research papers into industry prototypes\n",
      "creating event All that likelihood with PyMC3\n",
      "creating event ML and populism\n",
      "creating event GDPR in practise - Developing models with transparency and privacy in mind\n",
      "creating event Spatial Data Analysis With Python\n",
      "creating event Python in Medicine: analysing data from mechanical ventilators and patient monitors\n",
      "creating event Industrial ML - Overview of the technologies available to build scalable machine learning\n",
      "creating event Extracting relevant Metrics with Spectral Clustering\n",
      "creating event Tricks, tips and topics in Text Analysis\n",
      "creating event Simplifying Training Deep & Serving Learning Models with Big Data in Python using Tensorflow\n",
      "creating event How I Made My Computer Write it's First Short Story\n",
      "creating event Privacy-preserving Data Sharing\n",
      "creating event Deploying a machine learning model to the cloud using AWS Lambda\n",
      "creating event Manifold Learning and Dimensionality Reduction for Data Visualization and Feature Engineering\n",
      "creating event pyGAM: balancing interpretability and predictive power using Generalized Additive Models in Python\n",
      "creating event Launch Jupyter to the Cloud: an example of using Docker and Terraform\n",
      "creating event How mobile.de brings Data Science to Production for a Personalized Web Experience\n",
      "creating event Scaling and reproducing deep learning on Kubernetes with Polyaxon\n",
      "creating event Data versioning in machine learning projects\n",
      "creating event Solving very simple substitution ciphers algorithmically\n",
      "creating event A/B testing at Zalando: concepts and tools\n",
      "creating event Deep Neural Networks with PyTorch\n",
      "creating event Let's SQL Like It's 1992!\n",
      "creating event When to go deep in Computer Vision... and how\n",
      "creating event Surviving Interviews with Media (unrecorded)\n",
      "creating event AI in Healthcare\n",
      "creating event Production ready Data-Science with Python and Luigi\n",
      "creating event Search Relevance: A/B testing to Reinforcement Learning\n",
      "creating event Keynote: Hacking the Iron Curtain: From smuggling computer parts to owning the world\n",
      "creating event Keynote:  Building in Privacy and Data Protection -- what is demanded by the GDPR?\n",
      "creating event Keynote - Fairness and Diversity in Online Social Systems\n",
      "creating event Building new NLP solutions with spaCy and Prodigy\n",
      "creating event Making your first open source contribution\n",
      "creating event Software Development Core Skills: `git`\n",
      "creating event Going Full Stack with Data Science: Using Technical Readiness Level to Guide Data Science Outcomes\n",
      "creating event Career Panel Hosted by Nakeema Stefflbauer (followed by Q&A)\n",
      "creating event Big Data Systems Performance: The Little Shop of Horrors\n",
      "creating event Interfacing R and Python\n",
      "creating event Visual concept learning from few images\n"
     ]
    }
   ],
   "source": [
    "for (_, event) in df.iterrows():\n",
    "    write_event(event, cals, service)"
   ]
  },
  {
   "cell_type": "code",
   "execution_count": null,
   "metadata": {},
   "outputs": [],
   "source": []
  }
 ],
 "metadata": {
  "kernelspec": {
   "display_name": "Python [default]",
   "language": "python",
   "name": "python2"
  },
  "language_info": {
   "codemirror_mode": {
    "name": "ipython",
    "version": 2
   },
   "file_extension": ".py",
   "mimetype": "text/x-python",
   "name": "python",
   "nbconvert_exporter": "python",
   "pygments_lexer": "ipython2",
   "version": "2.7.15"
  },
  "toc": {
   "colors": {
    "hover_highlight": "#DAA520",
    "navigate_num": "#000000",
    "navigate_text": "#333333",
    "running_highlight": "#FF0000",
    "selected_highlight": "#FFD700",
    "sidebar_border": "#EEEEEE",
    "wrapper_background": "#FFFFFF"
   },
   "moveMenuLeft": true,
   "nav_menu": {
    "height": "4px",
    "width": "254px"
   },
   "navigate_menu": true,
   "number_sections": true,
   "sideBar": false,
   "threshold": 4,
   "toc_cell": true,
   "toc_position": {
    "height": "278px",
    "left": "1284.84px",
    "right": "20px",
    "top": "118px",
    "width": "358px"
   },
   "toc_section_display": "block",
   "toc_window_display": true,
   "widenNotebook": false
  }
 },
 "nbformat": 4,
 "nbformat_minor": 2
}
